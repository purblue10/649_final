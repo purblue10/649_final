{
 "metadata": {
  "name": "",
  "signature": "sha256:84356982b027742b3b0efa62b3f4769fa7a293aa3d4a73a5349d14171ca893f2"
 },
 "nbformat": 3,
 "nbformat_minor": 0,
 "worksheets": [
  {
   "cells": [
    {
     "cell_type": "code",
     "collapsed": false,
     "input": [
      "import numpy as np\n",
      "import pandas as pd\n",
      "import seaborn as sns\n",
      "%matplotlib inline"
     ],
     "language": "python",
     "metadata": {},
     "outputs": [],
     "prompt_number": 2
    },
    {
     "cell_type": "code",
     "collapsed": false,
     "input": [
      "# plot aesthetics\n",
      "sns.set_context('talk') #make it a bit bigger\n",
      "sns.set_style(\"white\")"
     ],
     "language": "python",
     "metadata": {},
     "outputs": [],
     "prompt_number": 32
    },
    {
     "cell_type": "code",
     "collapsed": false,
     "input": [
      "data = pd.read_csv('hvb_data.csv')"
     ],
     "language": "python",
     "metadata": {},
     "outputs": [],
     "prompt_number": 4
    },
    {
     "cell_type": "code",
     "collapsed": false,
     "input": [
      "list(data.columns)"
     ],
     "language": "python",
     "metadata": {},
     "outputs": [
      {
       "metadata": {},
       "output_type": "pyout",
       "prompt_number": 35,
       "text": [
        "['Provider Number',\n",
        " 'Hospital Name',\n",
        " 'Address',\n",
        " 'City',\n",
        " 'State',\n",
        " 'ZIP Code',\n",
        " 'County Name',\n",
        " 'Unweighted Normalized Clinical Process of Care Domain Score',\n",
        " 'Weighted Clinical Process of Care Domain Score',\n",
        " 'Unweighted Patient Experience of Care Domain Score',\n",
        " 'Weighted Patient Experience of Care Domain Score',\n",
        " 'Unweighted Normalized Outcome Domain Score',\n",
        " 'Weighted Outcome Domain Score',\n",
        " 'Unweighted Normalized Efficiency Domain Score',\n",
        " 'Weighted Efficiency Domain Score',\n",
        " 'Total Performance Score',\n",
        " 'Location']"
       ]
      }
     ],
     "prompt_number": 35
    },
    {
     "cell_type": "code",
     "collapsed": false,
     "input": [
      "data.shape #"
     ],
     "language": "python",
     "metadata": {},
     "outputs": [
      {
       "metadata": {},
       "output_type": "pyout",
       "prompt_number": 33,
       "text": [
        "(3089, 17)"
       ]
      }
     ],
     "prompt_number": 33
    },
    {
     "cell_type": "code",
     "collapsed": false,
     "input": [
      "summary_mask = [\"Hospital Name\", \"City\", \"State\", \"Total Performance Score\"]"
     ],
     "language": "python",
     "metadata": {},
     "outputs": [],
     "prompt_number": 5
    },
    {
     "cell_type": "code",
     "collapsed": false,
     "input": [
      "filtered_data = data[summary_mask] "
     ],
     "language": "python",
     "metadata": {},
     "outputs": [],
     "prompt_number": 6
    },
    {
     "cell_type": "code",
     "collapsed": false,
     "input": [
      "grps = filtered_data.groupby(\"State\")\n",
      "summary_stats  = grps['Total Performance Score'].describe().unstack()"
     ],
     "language": "python",
     "metadata": {},
     "outputs": [],
     "prompt_number": 29
    },
    {
     "cell_type": "code",
     "collapsed": false,
     "input": [
      "_ = summary_stats['mean'].plot(kind = 'bar', title = 'Average Overall TPS by State')"
     ],
     "language": "python",
     "metadata": {},
     "outputs": [
      {
       "metadata": {},
       "output_type": "display_data",
       "png": "[encoded data removed]",
       "text": [
        "<matplotlib.figure.Figure at 0x19dc7128>"
       ]
      }
     ],
     "prompt_number": 30
    }
   ],
   "metadata": {}
  }
 ]
}